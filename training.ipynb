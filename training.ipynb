{
  "nbformat": 4,
  "nbformat_minor": 0,
  "metadata": {
    "colab": {
      "provenance": []
    },
    "kernelspec": {
      "name": "python3",
      "display_name": "Python 3"
    },
    "language_info": {
      "name": "python"
    },
    "gpuClass": "standard",
    "accelerator": "GPU"
  },
  "cells": [
    {
      "cell_type": "code",
      "source": [
        "from google.colab import drive\n",
        "drive.mount('/content/drive')"
      ],
      "metadata": {
        "colab": {
          "base_uri": "https://localhost:8080/"
        },
        "id": "ikczrm60bdHQ",
        "outputId": "0dcfd967-393c-4513-9c52-3f343579e532"
      },
      "execution_count": null,
      "outputs": [
        {
          "output_type": "stream",
          "name": "stdout",
          "text": [
            "Mounted at /content/drive\n"
          ]
        }
      ]
    },
    {
      "cell_type": "code",
      "source": [
        "!unzip /content/drive/MyDrive/DL/Datasets/train_images.zip"
      ],
      "metadata": {
        "id": "biNilXek9dDY"
      },
      "execution_count": null,
      "outputs": []
    },
    {
      "cell_type": "code",
      "source": [
        "import cv2\n",
        "import os\n",
        "import pandas as pd\n",
        "import numpy as np\n",
        "from PIL import Image\n",
        "from PIL import ImageFile\n",
        "ImageFile.LOAD_TRUNCATED_IMAGES = True"
      ],
      "metadata": {
        "id": "YwQLXuFxocXf"
      },
      "execution_count": null,
      "outputs": []
    },
    {
      "cell_type": "code",
      "source": [
        "def read_pts(filename):\n",
        "    return np.loadtxt(filename, comments=(\"version:\", \"n_points:\", \"{\", \"}\"))"
      ],
      "metadata": {
        "id": "YnrVS5_IrgMA"
      },
      "execution_count": null,
      "outputs": []
    },
    {
      "cell_type": "code",
      "source": [
        "from torch.utils.data import Dataset, DataLoader\n",
        "class FacePointsDataset(Dataset):\n",
        "  def __init__(self,root_dir, transform=None):\n",
        "    self.root_dir = root_dir\n",
        "    self.transform = transform\n",
        "    self.images = os.listdir(self.root_dir+'/images')\n",
        "    self.annot = os.listdir(self.root_dir+'/annot')\n",
        "\n",
        "  def __len__(self):\n",
        "    return len(self.images)\n",
        "    \n",
        "  def __getitem__(self, idx):\n",
        "    image_name = self.root_dir+'/images/'+self.images[idx]\n",
        "    if image_name.startswith(\".\"):\n",
        "      pass\n",
        "    image = Image.open(image_name)\n",
        "    image = image.convert('RGB')\n",
        "    key_pts = read_pts(self.root_dir+\"/annot/\"+self.images[idx].split(\".\")[0]+\".pts\")\n",
        "    key_pts = key_pts.astype('float')\n",
        "    for i in range(len(key_pts)):\n",
        "      key_pts[i][0] = 224*(key_pts[i][0])/image.size[0]\n",
        "      key_pts[i][1] = 224*(key_pts[i][1])/image.size[1]\n",
        "    if self.transform:\n",
        "      image = self.transform(image)\n",
        "    return image, key_pts"
      ],
      "metadata": {
        "id": "zJrrB0OAnxCl"
      },
      "execution_count": null,
      "outputs": []
    },
    {
      "cell_type": "code",
      "source": [
        "from torchvision import transforms, utils\n",
        "#defining transformations using transforms.Compose([])\n",
        "data_transform =   transforms.Compose([transforms.Resize((224,224)),\n",
        "                                transforms.ToTensor(),\n",
        "                                transforms.Normalize(mean = [0.5, 0.5, 0.5],std = [0.5, 0.5, 0.5])])\n",
        "#creating dataset, by instantiating FacialKeyPointsDataset class\n",
        "dataset = FacePointsDataset('/content/01_Indoor',transform=data_transform)"
      ],
      "metadata": {
        "id": "S_poJD73oxTb"
      },
      "execution_count": null,
      "outputs": []
    },
    {
      "cell_type": "code",
      "source": [
        "train_dataloader = DataLoader(dataset, batch_size=32, shuffle=True)"
      ],
      "metadata": {
        "id": "SRXlfMhUxOTA"
      },
      "execution_count": null,
      "outputs": []
    },
    {
      "cell_type": "code",
      "source": [
        "import torch"
      ],
      "metadata": {
        "id": "aRAJJxQ9FDVM"
      },
      "execution_count": null,
      "outputs": []
    },
    {
      "cell_type": "code",
      "source": [
        "import torch.optim as optim\n",
        "from tqdm import tqdm\n",
        "num_epochs = 10\n",
        "device = \"cuda\" if torch.cuda.is_available() else \"cpu\"\n"
      ],
      "metadata": {
        "id": "mLh9V_JEyB4v"
      },
      "execution_count": null,
      "outputs": []
    },
    {
      "cell_type": "code",
      "source": [
        "import torch.nn as nn\n",
        "import torch.nn.functional as F\n",
        "\n",
        "class CustomFacePointsModel(nn.Module):\n",
        "    def __init__(self):\n",
        "        super(CustomFacePointsModel, self).__init__()\n",
        "        self.conv1 = nn.Conv2d(3, 32, kernel_size=3, stride=1, padding=1)\n",
        "        self.bn1 = nn.BatchNorm2d(32)\n",
        "        self.conv2 = nn.Conv2d(32, 64, kernel_size=3, stride=1, padding=1)\n",
        "        self.bn2 = nn.BatchNorm2d(64)\n",
        "        self.conv3 = nn.Conv2d(64, 128, kernel_size=3, stride=1, padding=1)\n",
        "        self.bn3 = nn.BatchNorm2d(128)\n",
        "        self.conv4 = nn.Conv2d(128, 256, kernel_size=3, stride=1, padding=1)\n",
        "        self.bn4 = nn.BatchNorm2d(256)\n",
        "        self.conv5 = nn.Conv2d(256, 512, kernel_size=3, stride=1, padding=1)\n",
        "        self.bn5 = nn.BatchNorm2d(512)\n",
        "        self.fc1 = nn.Linear(512*7*7, 1024)\n",
        "        self.fc2 = nn.Linear(1024, 512)\n",
        "        self.fc3 = nn.Linear(512, 68*2)\n",
        "\n",
        "    def forward(self, x):\n",
        "        x = F.relu(self.bn1(self.conv1(x)))\n",
        "        x = F.max_pool2d(x, kernel_size=2, stride=2)\n",
        "        x = F.relu(self.bn2(self.conv2(x)))\n",
        "        x = F.max_pool2d(x, kernel_size=2, stride=2)\n",
        "        x = F.relu(self.bn3(self.conv3(x)))\n",
        "        x = F.max_pool2d(x, kernel_size=2, stride=2)\n",
        "        x = F.relu(self.bn4(self.conv4(x)))\n",
        "        x = F.max_pool2d(x, kernel_size=2, stride=2)\n",
        "        x = F.relu(self.bn5(self.conv5(x)))\n",
        "        x = F.max_pool2d(x, kernel_size=2, stride=2)\n",
        "        x = x.view(x.size(0), -1)\n",
        "        x = F.relu(self.fc1(x))\n",
        "        x = F.dropout(x, p=0.5, training=self.training)\n",
        "        x = F.relu(self.fc2(x))\n",
        "        x = F.dropout(x, p=0.5, training=self.training)\n",
        "        x = self.fc3(x)\n",
        "        return x\n"
      ],
      "metadata": {
        "id": "Tj1icZ4fFvvU"
      },
      "execution_count": null,
      "outputs": []
    },
    {
      "cell_type": "code",
      "source": [
        "import torch.optim as optim\n",
        "from tqdm import tqdm\n",
        "\n",
        "# define your model\n",
        "model = CustomFacePointsModel()\n",
        "\n",
        "# define your loss function\n",
        "criterion = nn.MSELoss()\n",
        "\n",
        "# define your optimizer\n",
        "optimizer = optim.Adam(model.parameters(), lr=0.001)\n",
        "\n",
        "# set your model to training mode\n",
        "model.train()\n",
        "\n",
        "# train your model\n",
        "num_epochs = 100\n",
        "for epoch in range(num_epochs):\n",
        "    loop = tqdm(enumerate(train_dataloader),total=len(train_dataloader))\n",
        "    for i, data in loop:\n",
        "        # get the inputs and labels\n",
        "        inputs, labels = data\n",
        "\n",
        "        # zero the parameter gradients\n",
        "        optimizer.zero_grad()\n",
        "        labels = labels.reshape(-1,2*68)\n",
        "        # forward + backward + optimize\n",
        "        outputs = model(inputs)\n",
        "        outputs = outputs.type(torch.float64)\n",
        "        loss = criterion(outputs, labels)\n",
        "        loss.backward()\n",
        "        optimizer.step()\n",
        "\n",
        "        loop.set_postfix(loss=loss.item())\n",
        "\n",
        "print('Finished Training')\n"
      ],
      "metadata": {
        "colab": {
          "base_uri": "https://localhost:8080/"
        },
        "id": "mcW9n6w5x6ty",
        "outputId": "9c9349ee-b731-4450-a4be-6f6531d9c33f"
      },
      "execution_count": null,
      "outputs": [
        {
          "output_type": "stream",
          "name": "stderr",
          "text": [
            "100%|██████████| 6/6 [00:53<00:00,  8.86s/it, loss=2.78e+4]\n",
            "100%|██████████| 6/6 [00:51<00:00,  8.57s/it, loss=7.35e+4]\n",
            "100%|██████████| 6/6 [00:50<00:00,  8.37s/it, loss=2.25e+4]\n",
            "100%|██████████| 6/6 [00:52<00:00,  8.69s/it, loss=1.96e+4]\n",
            "100%|██████████| 6/6 [00:51<00:00,  8.61s/it, loss=5.43e+4]\n",
            "100%|██████████| 6/6 [00:50<00:00,  8.37s/it, loss=1.85e+4]\n",
            "100%|██████████| 6/6 [00:51<00:00,  8.51s/it, loss=1.18e+4]\n",
            "100%|██████████| 6/6 [00:51<00:00,  8.58s/it, loss=1.73e+4]\n",
            "100%|██████████| 6/6 [00:51<00:00,  8.56s/it, loss=1.26e+4]\n",
            "100%|██████████| 6/6 [00:49<00:00,  8.31s/it, loss=3.71e+4]\n",
            "100%|██████████| 6/6 [00:52<00:00,  8.68s/it, loss=1.14e+4]\n",
            "100%|██████████| 6/6 [00:52<00:00,  8.67s/it, loss=1.28e+4]\n",
            "100%|██████████| 6/6 [00:51<00:00,  8.65s/it, loss=1.05e+4]\n",
            "100%|██████████| 6/6 [00:50<00:00,  8.35s/it, loss=2.71e+4]\n",
            "100%|██████████| 6/6 [00:51<00:00,  8.56s/it, loss=6.26e+3]\n",
            "100%|██████████| 6/6 [00:51<00:00,  8.62s/it, loss=1.01e+4]\n",
            "100%|██████████| 6/6 [00:52<00:00,  8.70s/it, loss=1.09e+4]\n",
            "100%|██████████| 6/6 [00:52<00:00,  8.73s/it, loss=8.87e+3]\n",
            "100%|██████████| 6/6 [00:50<00:00,  8.42s/it, loss=6.87e+3]\n",
            "100%|██████████| 6/6 [00:51<00:00,  8.59s/it, loss=8e+3]\n",
            "100%|██████████| 6/6 [00:52<00:00,  8.75s/it, loss=1.67e+4]\n",
            "100%|██████████| 6/6 [00:51<00:00,  8.62s/it, loss=9.9e+3]\n",
            "100%|██████████| 6/6 [00:50<00:00,  8.45s/it, loss=7.12e+3]\n",
            "100%|██████████| 6/6 [00:50<00:00,  8.40s/it, loss=1.15e+4]\n",
            "100%|██████████| 6/6 [00:52<00:00,  8.68s/it, loss=1.07e+4]\n",
            "100%|██████████| 6/6 [00:51<00:00,  8.57s/it, loss=8.73e+3]\n",
            "100%|██████████| 6/6 [00:50<00:00,  8.35s/it, loss=5.27e+3]\n",
            "100%|██████████| 6/6 [00:50<00:00,  8.48s/it, loss=8e+3]\n",
            "100%|██████████| 6/6 [00:50<00:00,  8.47s/it, loss=6.56e+3]\n",
            "100%|██████████| 6/6 [00:51<00:00,  8.65s/it, loss=7.69e+3]\n",
            "100%|██████████| 6/6 [00:50<00:00,  8.39s/it, loss=7.26e+3]\n",
            "100%|██████████| 6/6 [00:51<00:00,  8.64s/it, loss=8.04e+3]\n",
            "100%|██████████| 6/6 [00:52<00:00,  8.73s/it, loss=8.37e+3]\n",
            "100%|██████████| 6/6 [00:51<00:00,  8.56s/it, loss=6.36e+3]\n",
            "100%|██████████| 6/6 [00:51<00:00,  8.58s/it, loss=3.48e+3]\n",
            "100%|██████████| 6/6 [00:49<00:00,  8.31s/it, loss=4.34e+3]\n",
            "100%|██████████| 6/6 [00:51<00:00,  8.63s/it, loss=7.49e+3]\n",
            "100%|██████████| 6/6 [00:51<00:00,  8.55s/it, loss=7.35e+3]\n",
            "100%|██████████| 6/6 [00:50<00:00,  8.43s/it, loss=1.06e+4]\n",
            "100%|██████████| 6/6 [00:50<00:00,  8.38s/it, loss=7.85e+3]\n",
            "100%|██████████| 6/6 [00:52<00:00,  8.77s/it, loss=5.91e+3]\n",
            "100%|██████████| 6/6 [00:51<00:00,  8.65s/it, loss=5.32e+3]\n",
            "100%|██████████| 6/6 [00:51<00:00,  8.59s/it, loss=5.73e+3]\n",
            "100%|██████████| 6/6 [00:51<00:00,  8.59s/it, loss=6.54e+3]\n",
            "100%|██████████| 6/6 [00:50<00:00,  8.40s/it, loss=5.98e+3]\n",
            "100%|██████████| 6/6 [00:53<00:00,  8.86s/it, loss=5.5e+3]\n",
            "100%|██████████| 6/6 [00:54<00:00,  9.00s/it, loss=1.02e+4]\n",
            "100%|██████████| 6/6 [00:52<00:00,  8.78s/it, loss=6.11e+3]\n",
            "100%|██████████| 6/6 [00:50<00:00,  8.48s/it, loss=4.97e+3]\n",
            "100%|██████████| 6/6 [00:49<00:00,  8.28s/it, loss=1.05e+4]\n",
            "100%|██████████| 6/6 [00:52<00:00,  8.69s/it, loss=9.84e+3]\n",
            "100%|██████████| 6/6 [00:51<00:00,  8.59s/it, loss=5.22e+3]\n",
            "100%|██████████| 6/6 [00:51<00:00,  8.66s/it, loss=1.09e+4]\n",
            "100%|██████████| 6/6 [00:50<00:00,  8.47s/it, loss=4.38e+3]\n",
            "100%|██████████| 6/6 [00:51<00:00,  8.55s/it, loss=3.59e+3]\n",
            "100%|██████████| 6/6 [00:51<00:00,  8.65s/it, loss=3.91e+3]\n",
            "100%|██████████| 6/6 [00:51<00:00,  8.56s/it, loss=5.73e+3]\n",
            "100%|██████████| 6/6 [00:50<00:00,  8.49s/it, loss=4.36e+3]\n",
            "100%|██████████| 6/6 [00:52<00:00,  8.75s/it, loss=4.6e+3]\n",
            "100%|██████████| 6/6 [00:53<00:00,  8.85s/it, loss=4.22e+3]\n",
            "100%|██████████| 6/6 [00:52<00:00,  8.78s/it, loss=4.46e+3]\n",
            "100%|██████████| 6/6 [00:52<00:00,  8.83s/it, loss=1.52e+3]\n",
            "100%|██████████| 6/6 [00:52<00:00,  8.79s/it, loss=9.19e+3]\n",
            "100%|██████████| 6/6 [00:51<00:00,  8.60s/it, loss=4.93e+3]\n",
            "100%|██████████| 6/6 [00:53<00:00,  8.92s/it, loss=4.25e+3]\n",
            "100%|██████████| 6/6 [00:52<00:00,  8.79s/it, loss=3.79e+3]\n",
            "100%|██████████| 6/6 [00:53<00:00,  8.91s/it, loss=5.49e+3]\n",
            "100%|██████████| 6/6 [00:52<00:00,  8.75s/it, loss=2.93e+3]\n",
            "100%|██████████| 6/6 [00:49<00:00,  8.32s/it, loss=5.33e+3]\n",
            "100%|██████████| 6/6 [00:50<00:00,  8.50s/it, loss=4.92e+3]\n",
            "100%|██████████| 6/6 [00:51<00:00,  8.66s/it, loss=6.92e+3]\n",
            "100%|██████████| 6/6 [00:52<00:00,  8.71s/it, loss=4.9e+3]\n",
            "100%|██████████| 6/6 [00:50<00:00,  8.47s/it, loss=6.73e+3]\n",
            "100%|██████████| 6/6 [00:51<00:00,  8.54s/it, loss=2.1e+3]\n",
            "100%|██████████| 6/6 [00:52<00:00,  8.78s/it, loss=8.83e+3]\n",
            "100%|██████████| 6/6 [00:52<00:00,  8.70s/it, loss=4.56e+3]\n",
            "100%|██████████| 6/6 [00:51<00:00,  8.63s/it, loss=4.86e+3]\n",
            "100%|██████████| 6/6 [00:49<00:00,  8.29s/it, loss=3.67e+3]\n",
            "100%|██████████| 6/6 [00:50<00:00,  8.38s/it, loss=3.26e+3]\n",
            "100%|██████████| 6/6 [00:52<00:00,  8.68s/it, loss=1.14e+4]\n",
            "100%|██████████| 6/6 [00:51<00:00,  8.64s/it, loss=6.3e+3]\n",
            "100%|██████████| 6/6 [00:50<00:00,  8.38s/it, loss=4.64e+3]\n",
            "100%|██████████| 6/6 [00:52<00:00,  8.68s/it, loss=3.77e+3]\n",
            "100%|██████████| 6/6 [00:53<00:00,  8.93s/it, loss=2.22e+3]\n",
            "100%|██████████| 6/6 [00:52<00:00,  8.70s/it, loss=5.01e+3]\n",
            "100%|██████████| 6/6 [00:51<00:00,  8.63s/it, loss=2.78e+3]\n",
            "100%|██████████| 6/6 [00:49<00:00,  8.29s/it, loss=5.6e+3]\n",
            "100%|██████████| 6/6 [00:52<00:00,  8.78s/it, loss=6.18e+3]\n",
            "100%|██████████| 6/6 [00:52<00:00,  8.69s/it, loss=4.24e+3]\n",
            "100%|██████████| 6/6 [00:53<00:00,  8.95s/it, loss=2.11e+3]\n",
            "100%|██████████| 6/6 [00:52<00:00,  8.67s/it, loss=3.73e+3]\n",
            "100%|██████████| 6/6 [00:51<00:00,  8.65s/it, loss=4.45e+3]\n",
            "100%|██████████| 6/6 [00:52<00:00,  8.71s/it, loss=2.58e+3]\n",
            "100%|██████████| 6/6 [00:52<00:00,  8.71s/it, loss=6.1e+3]\n",
            "100%|██████████| 6/6 [00:52<00:00,  8.79s/it, loss=8.01e+3]\n",
            "100%|██████████| 6/6 [00:51<00:00,  8.65s/it, loss=4.21e+3]\n",
            "100%|██████████| 6/6 [00:51<00:00,  8.64s/it, loss=3.46e+3]\n",
            "100%|██████████| 6/6 [00:52<00:00,  8.76s/it, loss=8.71e+3]\n",
            "100%|██████████| 6/6 [00:51<00:00,  8.57s/it, loss=4.48e+3]\n",
            "100%|██████████| 6/6 [00:53<00:00,  8.85s/it, loss=2.38e+3]"
          ]
        },
        {
          "output_type": "stream",
          "name": "stdout",
          "text": [
            "Finished Training\n"
          ]
        },
        {
          "output_type": "stream",
          "name": "stderr",
          "text": [
            "\n"
          ]
        }
      ]
    },
    {
      "cell_type": "code",
      "source": [
        "torch.save(model,'/content/model.pth')"
      ],
      "metadata": {
        "id": "nXdlHcRn7Snu"
      },
      "execution_count": null,
      "outputs": []
    },
    {
      "cell_type": "code",
      "source": [
        "!cp /content/model.pth /content/drive/MyDrive/DL"
      ],
      "metadata": {
        "colab": {
          "base_uri": "https://localhost:8080/"
        },
        "id": "8cdfJ20UXBpy",
        "outputId": "093af36f-cee6-4f7e-9c08-bd399a3862f6"
      },
      "execution_count": null,
      "outputs": [
        {
          "output_type": "stream",
          "name": "stdout",
          "text": [
            "cp: cannot stat '/content/model.pth': No such file or directory\n"
          ]
        }
      ]
    },
    {
      "cell_type": "code",
      "source": [
        "img=Image.open('/content/01_Indoor/images/indoor_001.png')\n",
        "img_t=transforms.Resize((224,224))(img)"
      ],
      "metadata": {
        "id": "rmUC6oR9iTSr"
      },
      "execution_count": null,
      "outputs": []
    },
    {
      "cell_type": "code",
      "source": [
        "img_t=np.asarray(img_t)\n",
        "img_t.shape"
      ],
      "metadata": {
        "colab": {
          "base_uri": "https://localhost:8080/"
        },
        "id": "SjRROyGsjLud",
        "outputId": "5aef7423-2fd5-4aec-9b6f-9769a84ccb12"
      },
      "execution_count": null,
      "outputs": [
        {
          "output_type": "execute_result",
          "data": {
            "text/plain": [
              "(224, 224, 3)"
            ]
          },
          "metadata": {},
          "execution_count": 14
        }
      ]
    },
    {
      "cell_type": "code",
      "source": [
        "pts=read_pts('/content/01_Indoor/annot/indoor_001.pts')"
      ],
      "metadata": {
        "id": "gW8U5Y-7c3Of"
      },
      "execution_count": null,
      "outputs": []
    },
    {
      "cell_type": "code",
      "source": [
        "for i in range(len(pts)):\n",
        "  pts[i][0] = 224*(pts[i][0])/img.size[0]\n",
        "  pts[i][1] = 224*(pts[i][1])/img.size[1]"
      ],
      "metadata": {
        "id": "TRWs5jNpeDtV"
      },
      "execution_count": null,
      "outputs": []
    },
    {
      "cell_type": "code",
      "source": [
        "pts"
      ],
      "metadata": {
        "colab": {
          "base_uri": "https://localhost:8080/"
        },
        "id": "3x_ulAXSjqFz",
        "outputId": "84251b77-a0f9-4e4e-c07a-fd1ffb72daf9"
      },
      "execution_count": null,
      "outputs": [
        {
          "output_type": "execute_result",
          "data": {
            "text/plain": [
              "array([[ 99.5059761 ,  27.07038513],\n",
              "       [100.27770518,  35.5020664 ],\n",
              "       [100.61192032,  44.80416467],\n",
              "       [102.75263745,  52.64922178],\n",
              "       [105.19209562,  60.1370093 ],\n",
              "       [108.89590438,  67.48022311],\n",
              "       [112.896     ,  73.30957769],\n",
              "       [117.05606375,  78.49370518],\n",
              "       [123.44876494,  80.74560425],\n",
              "       [129.11949004,  79.20616202],\n",
              "       [133.7219761 ,  74.06159894],\n",
              "       [137.42243825,  65.63854449],\n",
              "       [139.98639044,  58.90010093],\n",
              "       [141.75697211,  53.26737849],\n",
              "       [143.24911554,  46.51673838],\n",
              "       [144.4179761 ,  37.11111819],\n",
              "       [144.24305976,  27.64867995],\n",
              "       [104.92101992,  35.06358566],\n",
              "       [108.47891633,  32.54841965],\n",
              "       [112.244749  ,  34.04740505],\n",
              "       [115.95212749,  35.72398406],\n",
              "       [119.06804781,  37.96071182],\n",
              "       [127.6034741 ,  36.76515272],\n",
              "       [130.6745498 ,  34.85088977],\n",
              "       [134.38750598,  32.44579017],\n",
              "       [138.34387251,  30.92300664],\n",
              "       [141.44216733,  33.09012483],\n",
              "       [123.80930677,  43.15554847],\n",
              "       [123.73300398,  47.92529084],\n",
              "       [123.74839841,  52.82294821],\n",
              "       [123.77494821,  57.79824701],\n",
              "       [118.85319522,  58.87957503],\n",
              "       [121.28952988,  60.3404834 ],\n",
              "       [123.97016733,  61.126417  ],\n",
              "       [126.15416733,  60.11083134],\n",
              "       [128.59206375,  58.62106773],\n",
              "       [108.75913944,  40.58653918],\n",
              "       [111.37172908,  39.36718194],\n",
              "       [114.62843028,  39.73962284],\n",
              "       [117.71021514,  42.55315803],\n",
              "       [114.54833466,  43.06541301],\n",
              "       [111.35678088,  43.05589376],\n",
              "       [129.3747251 ,  41.88918991],\n",
              "       [131.83448606,  38.67435857],\n",
              "       [135.12465339,  38.18887649],\n",
              "       [137.95700398,  39.46653918],\n",
              "       [135.37520319,  41.80292165],\n",
              "       [132.40675697,  42.06886587],\n",
              "       [115.80175299,  68.13407703],\n",
              "       [119.65080478,  66.03329615],\n",
              "       [122.04006375,  65.79947942],\n",
              "       [124.30683665,  66.7481328 ],\n",
              "       [126.7634741 ,  65.39312616],\n",
              "       [129.21141036,  66.10915272],\n",
              "       [131.43222311,  66.75675963],\n",
              "       [129.64133865,  71.33611687],\n",
              "       [127.19429482,  74.95283931],\n",
              "       [124.54779283,  75.81016733],\n",
              "       [122.18731474,  75.74383001],\n",
              "       [119.15840637,  73.70641169],\n",
              "       [117.07748207,  68.56155113],\n",
              "       [122.19244622,  68.91435857],\n",
              "       [124.33874104,  68.65912351],\n",
              "       [126.7634741 ,  68.16947676],\n",
              "       [130.61096414,  67.22736786],\n",
              "       [126.99528287,  70.73313147],\n",
              "       [124.37644622,  71.55565471],\n",
              "       [122.26049402,  71.39858699]])"
            ]
          },
          "metadata": {},
          "execution_count": 17
        }
      ]
    },
    {
      "cell_type": "code",
      "source": [
        "import cv2\n",
        "for i in pts:\n",
        "    img_t = cv2.circle(img_t, (int(i[0]),int(i[1])), radius=5, color=(255, 0, 0), thickness=-1)\n",
        "cv2.imwrite('plot.png',img_t)"
      ],
      "metadata": {
        "colab": {
          "base_uri": "https://localhost:8080/"
        },
        "id": "Fqhprj57fcNl",
        "outputId": "2a7d4ded-ef6d-4438-bce0-9b9ab2886d95"
      },
      "execution_count": null,
      "outputs": [
        {
          "output_type": "execute_result",
          "data": {
            "text/plain": [
              "True"
            ]
          },
          "metadata": {},
          "execution_count": 18
        }
      ]
    },
    {
      "cell_type": "code",
      "source": [
        "!cp /content/model.pth /content/drive/MyDrive/DL"
      ],
      "metadata": {
        "id": "FURRT5mY8OVx"
      },
      "execution_count": null,
      "outputs": []
    },
    {
      "cell_type": "markdown",
      "source": [
        "224*(i_old - 0)/width = i_new/224"
      ],
      "metadata": {
        "id": "wCkhMGJZer3u"
      }
    },
    {
      "cell_type": "code",
      "source": [
        "model = torch.load('/content/drive/MyDrive/DL/model.pth')\n",
        "model.eval()"
      ],
      "metadata": {
        "colab": {
          "base_uri": "https://localhost:8080/"
        },
        "id": "NkdUj356cLJN",
        "outputId": "352d565e-14a1-4f65-97b8-5ba02d3dda79"
      },
      "execution_count": null,
      "outputs": [
        {
          "output_type": "execute_result",
          "data": {
            "text/plain": [
              "CustomFacePointsModel(\n",
              "  (conv1): Conv2d(3, 32, kernel_size=(3, 3), stride=(1, 1), padding=(1, 1))\n",
              "  (bn1): BatchNorm2d(32, eps=1e-05, momentum=0.1, affine=True, track_running_stats=True)\n",
              "  (conv2): Conv2d(32, 64, kernel_size=(3, 3), stride=(1, 1), padding=(1, 1))\n",
              "  (bn2): BatchNorm2d(64, eps=1e-05, momentum=0.1, affine=True, track_running_stats=True)\n",
              "  (conv3): Conv2d(64, 128, kernel_size=(3, 3), stride=(1, 1), padding=(1, 1))\n",
              "  (bn3): BatchNorm2d(128, eps=1e-05, momentum=0.1, affine=True, track_running_stats=True)\n",
              "  (conv4): Conv2d(128, 256, kernel_size=(3, 3), stride=(1, 1), padding=(1, 1))\n",
              "  (bn4): BatchNorm2d(256, eps=1e-05, momentum=0.1, affine=True, track_running_stats=True)\n",
              "  (conv5): Conv2d(256, 512, kernel_size=(3, 3), stride=(1, 1), padding=(1, 1))\n",
              "  (bn5): BatchNorm2d(512, eps=1e-05, momentum=0.1, affine=True, track_running_stats=True)\n",
              "  (fc1): Linear(in_features=25088, out_features=1024, bias=True)\n",
              "  (fc2): Linear(in_features=1024, out_features=512, bias=True)\n",
              "  (fc3): Linear(in_features=512, out_features=136, bias=True)\n",
              ")"
            ]
          },
          "metadata": {},
          "execution_count": 10
        }
      ]
    },
    {
      "cell_type": "code",
      "source": [
        "img=Image.open('/content/bradpitt.png')\n",
        "img = data_transform(img).unsqueeze(0)\n",
        "x=model(img).detach().numpy().reshape(68,2)\n",
        "\n",
        "#image=cv2.imread('face-morphing-multiple-images//aligned_images//bradpitt.png')\n",
        "image = img.squeeze(0).detach().numpy()\n",
        "image=np.transpose(image,(1,2,0))\n",
        "image=(image*255).astype(int)\n",
        "print(x)\n",
        "for i in x:\n",
        "    image = cv2.circle(image, (int(i[0]),int(i[1])), radius=0, color=(0, 0, 255), thickness=-1)\n",
        "\n",
        "cv2.imwrite('plot.png',image)"
      ],
      "metadata": {
        "colab": {
          "base_uri": "https://localhost:8080/",
          "height": 1000
        },
        "id": "q5gyElQQcSuZ",
        "outputId": "2aeb3320-3983-4719-bb9d-20ab4430a1a5"
      },
      "execution_count": null,
      "outputs": [
        {
          "output_type": "stream",
          "name": "stdout",
          "text": [
            "[[[0.56078434 0.45098042 0.254902  ]\n",
            "  [0.45882356 0.5921569  0.3803922 ]\n",
            "  [0.4431373  0.654902   0.45882356]\n",
            "  ...\n",
            "  [0.22352946 0.6        0.34901965]\n",
            "  [0.2313726  0.60784316 0.34901965]\n",
            "  [0.24705887 0.6156863  0.35686278]]\n",
            "\n",
            " [[0.56078434 0.41960788 0.22352946]\n",
            "  [0.5058824  0.6156863  0.39607847]\n",
            "  [0.47450984 0.67058825 0.45882356]\n",
            "  ...\n",
            "  [0.22352946 0.62352943 0.3803922 ]\n",
            "  [0.23921573 0.60784316 0.36470592]\n",
            "  [0.26274514 0.60784316 0.36470592]]\n",
            "\n",
            " [[0.58431375 0.39607847 0.19215691]\n",
            "  [0.5686275  0.62352943 0.39607847]\n",
            "  [0.5294118  0.67058825 0.4431373 ]\n",
            "  ...\n",
            "  [0.22352946 0.654902   0.4039216 ]\n",
            "  [0.23921573 0.64705884 0.4039216 ]\n",
            "  [0.254902   0.6313726  0.38823533]]\n",
            "\n",
            " ...\n",
            "\n",
            " [[0.47450984 0.73333335 0.09019613]\n",
            "  [0.4431373  0.7176471  0.082353  ]\n",
            "  [0.39607847 0.7019608  0.07450986]\n",
            "  ...\n",
            "  [0.02745104 0.427451   0.18431377]\n",
            "  [0.0196079  0.41960788 0.17647064]\n",
            "  [0.02745104 0.427451   0.18431377]]\n",
            "\n",
            " [[0.47450984 0.7254902  0.09803927]\n",
            "  [0.43529415 0.70980394 0.09019613]\n",
            "  [0.39607847 0.7019608  0.082353  ]\n",
            "  ...\n",
            "  [0.01176476 0.41960788 0.17647064]\n",
            "  [0.0196079  0.41960788 0.17647064]\n",
            "  [0.02745104 0.427451   0.18431377]]\n",
            "\n",
            " [[0.4666667  0.7254902  0.10588241]\n",
            "  [0.43529415 0.70980394 0.09803927]\n",
            "  [0.39607847 0.69411767 0.09019613]\n",
            "  ...\n",
            "  [0.0196079  0.427451   0.17647064]\n",
            "  [0.02745104 0.43529415 0.18431377]\n",
            "  [0.02745104 0.43529415 0.18431377]]]\n",
            "[[340.33972 306.269  ]\n",
            " [337.6385  322.97287]\n",
            " [336.90588 339.33713]\n",
            " [342.06622 343.65244]\n",
            " [349.31488 362.35312]\n",
            " [350.26633 375.7594 ]\n",
            " [352.52713 380.9339 ]\n",
            " [378.20407 399.82227]\n",
            " [368.91602 386.1378 ]\n",
            " [389.29343 388.60217]\n",
            " [382.18185 376.66827]\n",
            " [408.3883  381.76926]\n",
            " [402.28387 366.52444]\n",
            " [399.67453 357.9714 ]\n",
            " [410.42526 345.49835]\n",
            " [405.57306 329.6015 ]\n",
            " [418.73288 318.96594]\n",
            " [343.44604 303.5482 ]\n",
            " [348.92633 291.89276]\n",
            " [351.80264 282.17346]\n",
            " [344.9207  284.31125]\n",
            " [370.34155 294.591  ]\n",
            " [379.92157 296.97552]\n",
            " [383.46194 285.2837 ]\n",
            " [397.5452  290.44028]\n",
            " [391.2165  294.27905]\n",
            " [400.7089  300.03424]\n",
            " [368.80984 314.7188 ]\n",
            " [371.16415 312.69907]\n",
            " [376.29965 318.15475]\n",
            " [370.6488  329.32333]\n",
            " [361.86105 333.0953 ]\n",
            " [370.64932 334.27374]\n",
            " [367.94888 354.71933]\n",
            " [367.54416 351.30954]\n",
            " [376.08588 340.8369 ]\n",
            " [346.8513  299.70435]\n",
            " [356.5862  311.65787]\n",
            " [366.87967 311.0299 ]\n",
            " [362.81488 304.77557]\n",
            " [362.84076 306.75757]\n",
            " [352.413   298.97583]\n",
            " [384.07776 312.31888]\n",
            " [380.9868  307.04242]\n",
            " [396.93192 313.99182]\n",
            " [400.39496 315.28796]\n",
            " [395.32233 313.3832 ]\n",
            " [382.33182 306.12564]\n",
            " [349.40247 358.79968]\n",
            " [359.32266 361.2258 ]\n",
            " [370.65067 343.52725]\n",
            " [367.68527 345.2306 ]\n",
            " [374.93195 343.7069 ]\n",
            " [386.91153 350.7656 ]\n",
            " [383.25085 358.86136]\n",
            " [381.32516 374.20157]\n",
            " [384.1783  369.63675]\n",
            " [373.06198 374.47745]\n",
            " [369.99878 367.29837]\n",
            " [361.02115 369.4861 ]\n",
            " [352.89877 358.90005]\n",
            " [356.8586  355.7502 ]\n",
            " [374.2464  356.16812]\n",
            " [370.01797 349.4824 ]\n",
            " [385.92288 362.63315]\n",
            " [377.48145 363.76245]\n",
            " [388.38226 368.2161 ]\n",
            " [369.17447 365.56345]]\n"
          ]
        },
        {
          "output_type": "error",
          "ename": "error",
          "evalue": "ignored",
          "traceback": [
            "\u001b[0;31m---------------------------------------------------------------------------\u001b[0m",
            "\u001b[0;31merror\u001b[0m                                     Traceback (most recent call last)",
            "\u001b[0;32m<ipython-input-13-d8185f8db854>\u001b[0m in \u001b[0;36m<module>\u001b[0;34m\u001b[0m\n\u001b[1;32m     10\u001b[0m \u001b[0mprint\u001b[0m\u001b[0;34m(\u001b[0m\u001b[0mx\u001b[0m\u001b[0;34m)\u001b[0m\u001b[0;34m\u001b[0m\u001b[0;34m\u001b[0m\u001b[0m\n\u001b[1;32m     11\u001b[0m \u001b[0;32mfor\u001b[0m \u001b[0mi\u001b[0m \u001b[0;32min\u001b[0m \u001b[0mx\u001b[0m\u001b[0;34m:\u001b[0m\u001b[0;34m\u001b[0m\u001b[0;34m\u001b[0m\u001b[0m\n\u001b[0;32m---> 12\u001b[0;31m     \u001b[0mimage\u001b[0m \u001b[0;34m=\u001b[0m \u001b[0mcv2\u001b[0m\u001b[0;34m.\u001b[0m\u001b[0mcircle\u001b[0m\u001b[0;34m(\u001b[0m\u001b[0mimage\u001b[0m\u001b[0;34m,\u001b[0m \u001b[0;34m(\u001b[0m\u001b[0mint\u001b[0m\u001b[0;34m(\u001b[0m\u001b[0mi\u001b[0m\u001b[0;34m[\u001b[0m\u001b[0;36m0\u001b[0m\u001b[0;34m]\u001b[0m\u001b[0;34m)\u001b[0m\u001b[0;34m,\u001b[0m\u001b[0mint\u001b[0m\u001b[0;34m(\u001b[0m\u001b[0mi\u001b[0m\u001b[0;34m[\u001b[0m\u001b[0;36m1\u001b[0m\u001b[0;34m]\u001b[0m\u001b[0;34m)\u001b[0m\u001b[0;34m)\u001b[0m\u001b[0;34m,\u001b[0m \u001b[0mradius\u001b[0m\u001b[0;34m=\u001b[0m\u001b[0;36m0\u001b[0m\u001b[0;34m,\u001b[0m \u001b[0mcolor\u001b[0m\u001b[0;34m=\u001b[0m\u001b[0;34m(\u001b[0m\u001b[0;36m0\u001b[0m\u001b[0;34m,\u001b[0m \u001b[0;36m0\u001b[0m\u001b[0;34m,\u001b[0m \u001b[0;36m255\u001b[0m\u001b[0;34m)\u001b[0m\u001b[0;34m,\u001b[0m \u001b[0mthickness\u001b[0m\u001b[0;34m=\u001b[0m\u001b[0;34m-\u001b[0m\u001b[0;36m1\u001b[0m\u001b[0;34m)\u001b[0m\u001b[0;34m\u001b[0m\u001b[0;34m\u001b[0m\u001b[0m\n\u001b[0m\u001b[1;32m     13\u001b[0m \u001b[0;34m\u001b[0m\u001b[0m\n\u001b[1;32m     14\u001b[0m \u001b[0mcv2\u001b[0m\u001b[0;34m.\u001b[0m\u001b[0mimwrite\u001b[0m\u001b[0;34m(\u001b[0m\u001b[0;34m'plot.png'\u001b[0m\u001b[0;34m,\u001b[0m\u001b[0mimage\u001b[0m\u001b[0;34m)\u001b[0m\u001b[0;34m\u001b[0m\u001b[0;34m\u001b[0m\u001b[0m\n",
            "\u001b[0;31merror\u001b[0m: OpenCV(4.7.0) :-1: error: (-5:Bad argument) in function 'circle'\n> Overload resolution failed:\n>  - Layout of the output array img is incompatible with cv::Mat\n>  - Expected Ptr<cv::UMat> for argument 'img'\n"
          ]
        }
      ]
    }
  ]
}